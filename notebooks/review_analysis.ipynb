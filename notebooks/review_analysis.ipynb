{
 "cells": [
  {
   "cell_type": "code",
   "execution_count": 1,
   "id": "1b559336-421d-4d6b-a2de-6d3d2af81374",
   "metadata": {},
   "outputs": [],
   "source": [
    "import pandas as pd\n",
    "import numpy as np\n",
    "from sklearn.feature_extraction.text import CountVectorizer\n",
    "from sklearn.ensemble import RandomForestClassifier\n",
    "from sklearn.metrics import classification_report,confusion_matrix,accuracy_score"
   ]
  },
  {
   "cell_type": "markdown",
   "id": "529b7d4e-94ed-42ef-81c2-f6f71932dd2a",
   "metadata": {},
   "source": [
    "Importing Dataset"
   ]
  },
  {
   "cell_type": "code",
   "execution_count": 2,
   "id": "f4315a47-ffe6-4653-b90f-f4ec4319341c",
   "metadata": {},
   "outputs": [],
   "source": [
    "df = pd.read_csv('../artifacts/Restaurant_reviews.csv', encoding = \"ISO-8859-1\")"
   ]
  },
  {
   "cell_type": "code",
   "execution_count": 3,
   "id": "d0311fd1-76a6-42f4-87dd-b41b080c14e2",
   "metadata": {},
   "outputs": [
    {
     "name": "stdout",
     "output_type": "stream",
     "text": [
      "C:\\Users\\hasitha\\Desktop\\review_sentiment\\notebooks\n"
     ]
    }
   ],
   "source": [
    "import os\n",
    "print(os.getcwd())"
   ]
  },
  {
   "cell_type": "code",
   "execution_count": 4,
   "id": "b0d46b48-6ac3-49a3-87ad-b619691986b9",
   "metadata": {},
   "outputs": [],
   "source": [
    "file_path = \"../artifacts/Restaurant reviews.csv\""
   ]
  },
  {
   "cell_type": "code",
   "execution_count": 5,
   "id": "ba7f62dd-1422-4bad-9ac4-c15a2c25f480",
   "metadata": {},
   "outputs": [
    {
     "data": {
      "text/plain": [
       "'../artifacts/Restaurant reviews.csv'"
      ]
     },
     "execution_count": 5,
     "metadata": {},
     "output_type": "execute_result"
    }
   ],
   "source": [
    "file_path"
   ]
  },
  {
   "cell_type": "code",
   "execution_count": 6,
   "id": "7f4f5605-616d-4d2f-a84b-d2626f416db3",
   "metadata": {},
   "outputs": [
    {
     "name": "stdout",
     "output_type": "stream",
     "text": [
      "['.ipynb_checkpoints', 'Restaurant_reviews.csv']\n"
     ]
    }
   ],
   "source": [
    "print(os.listdir(\"../artifacts\"))"
   ]
  },
  {
   "cell_type": "code",
   "execution_count": 7,
   "id": "fcf0f374-4623-46df-a351-a2e70cecd0ee",
   "metadata": {},
   "outputs": [
    {
     "data": {
      "text/html": [
       "<div>\n",
       "<style scoped>\n",
       "    .dataframe tbody tr th:only-of-type {\n",
       "        vertical-align: middle;\n",
       "    }\n",
       "\n",
       "    .dataframe tbody tr th {\n",
       "        vertical-align: top;\n",
       "    }\n",
       "\n",
       "    .dataframe thead th {\n",
       "        text-align: right;\n",
       "    }\n",
       "</style>\n",
       "<table border=\"1\" class=\"dataframe\">\n",
       "  <thead>\n",
       "    <tr style=\"text-align: right;\">\n",
       "      <th></th>\n",
       "      <th>Restaurant</th>\n",
       "      <th>Reviewer</th>\n",
       "      <th>Review</th>\n",
       "      <th>Rating</th>\n",
       "      <th>Metadata</th>\n",
       "      <th>Time</th>\n",
       "      <th>Pictures</th>\n",
       "      <th>7514</th>\n",
       "    </tr>\n",
       "  </thead>\n",
       "  <tbody>\n",
       "    <tr>\n",
       "      <th>0</th>\n",
       "      <td>Beyond Flavours</td>\n",
       "      <td>Rusha Chakraborty</td>\n",
       "      <td>The ambience was good, food was quite good . h...</td>\n",
       "      <td>5</td>\n",
       "      <td>1 Review , 2 Followers</td>\n",
       "      <td>5/25/2019 15:54</td>\n",
       "      <td>0</td>\n",
       "      <td>2447.0</td>\n",
       "    </tr>\n",
       "    <tr>\n",
       "      <th>1</th>\n",
       "      <td>Beyond Flavours</td>\n",
       "      <td>Anusha Tirumalaneedi</td>\n",
       "      <td>Ambience is too good for a pleasant evening. S...</td>\n",
       "      <td>5</td>\n",
       "      <td>3 Reviews , 2 Followers</td>\n",
       "      <td>5/25/2019 14:20</td>\n",
       "      <td>0</td>\n",
       "      <td>NaN</td>\n",
       "    </tr>\n",
       "    <tr>\n",
       "      <th>2</th>\n",
       "      <td>Beyond Flavours</td>\n",
       "      <td>Ashok Shekhawat</td>\n",
       "      <td>A must try.. great food great ambience. Thnx f...</td>\n",
       "      <td>5</td>\n",
       "      <td>2 Reviews , 3 Followers</td>\n",
       "      <td>5/24/2019 22:54</td>\n",
       "      <td>0</td>\n",
       "      <td>NaN</td>\n",
       "    </tr>\n",
       "    <tr>\n",
       "      <th>3</th>\n",
       "      <td>Beyond Flavours</td>\n",
       "      <td>Swapnil Sarkar</td>\n",
       "      <td>Soumen das and Arun was a great guy. Only beca...</td>\n",
       "      <td>5</td>\n",
       "      <td>1 Review , 1 Follower</td>\n",
       "      <td>5/24/2019 22:11</td>\n",
       "      <td>0</td>\n",
       "      <td>NaN</td>\n",
       "    </tr>\n",
       "    <tr>\n",
       "      <th>4</th>\n",
       "      <td>Beyond Flavours</td>\n",
       "      <td>Dileep</td>\n",
       "      <td>Food is good.we ordered Kodi drumsticks and ba...</td>\n",
       "      <td>5</td>\n",
       "      <td>3 Reviews , 2 Followers</td>\n",
       "      <td>5/24/2019 21:37</td>\n",
       "      <td>0</td>\n",
       "      <td>NaN</td>\n",
       "    </tr>\n",
       "    <tr>\n",
       "      <th>...</th>\n",
       "      <td>...</td>\n",
       "      <td>...</td>\n",
       "      <td>...</td>\n",
       "      <td>...</td>\n",
       "      <td>...</td>\n",
       "      <td>...</td>\n",
       "      <td>...</td>\n",
       "      <td>...</td>\n",
       "    </tr>\n",
       "    <tr>\n",
       "      <th>9995</th>\n",
       "      <td>Chinese Pavilion</td>\n",
       "      <td>Abhishek Mahajan</td>\n",
       "      <td>Madhumathi Mahajan Well to start with nice cou...</td>\n",
       "      <td>3</td>\n",
       "      <td>53 Reviews , 54 Followers</td>\n",
       "      <td>6/5/2016 0:08</td>\n",
       "      <td>0</td>\n",
       "      <td>NaN</td>\n",
       "    </tr>\n",
       "    <tr>\n",
       "      <th>9996</th>\n",
       "      <td>Chinese Pavilion</td>\n",
       "      <td>Sharad Agrawal</td>\n",
       "      <td>This place has never disappointed us.. The foo...</td>\n",
       "      <td>4.5</td>\n",
       "      <td>2 Reviews , 53 Followers</td>\n",
       "      <td>6/4/2016 22:01</td>\n",
       "      <td>0</td>\n",
       "      <td>NaN</td>\n",
       "    </tr>\n",
       "    <tr>\n",
       "      <th>9997</th>\n",
       "      <td>Chinese Pavilion</td>\n",
       "      <td>Ramandeep</td>\n",
       "      <td>Bad rating is mainly because of \"Chicken Bone ...</td>\n",
       "      <td>1.5</td>\n",
       "      <td>65 Reviews , 423 Followers</td>\n",
       "      <td>6/3/2016 10:37</td>\n",
       "      <td>3</td>\n",
       "      <td>NaN</td>\n",
       "    </tr>\n",
       "    <tr>\n",
       "      <th>9998</th>\n",
       "      <td>Chinese Pavilion</td>\n",
       "      <td>Nayana Shanbhag</td>\n",
       "      <td>I personally love and prefer Chinese Food. Had...</td>\n",
       "      <td>4</td>\n",
       "      <td>13 Reviews , 144 Followers</td>\n",
       "      <td>5/31/2016 17:22</td>\n",
       "      <td>0</td>\n",
       "      <td>NaN</td>\n",
       "    </tr>\n",
       "    <tr>\n",
       "      <th>9999</th>\n",
       "      <td>Chinese Pavilion</td>\n",
       "      <td>Bhargava Krishna</td>\n",
       "      <td>Checked in here to try some delicious chinese ...</td>\n",
       "      <td>3.5</td>\n",
       "      <td>472 Reviews , 1302 Followers</td>\n",
       "      <td>5/31/2016 16:41</td>\n",
       "      <td>6</td>\n",
       "      <td>NaN</td>\n",
       "    </tr>\n",
       "  </tbody>\n",
       "</table>\n",
       "<p>10000 rows × 8 columns</p>\n",
       "</div>"
      ],
      "text/plain": [
       "            Restaurant              Reviewer  \\\n",
       "0      Beyond Flavours     Rusha Chakraborty   \n",
       "1      Beyond Flavours  Anusha Tirumalaneedi   \n",
       "2      Beyond Flavours       Ashok Shekhawat   \n",
       "3      Beyond Flavours        Swapnil Sarkar   \n",
       "4      Beyond Flavours                Dileep   \n",
       "...                ...                   ...   \n",
       "9995  Chinese Pavilion      Abhishek Mahajan   \n",
       "9996  Chinese Pavilion        Sharad Agrawal   \n",
       "9997  Chinese Pavilion             Ramandeep   \n",
       "9998  Chinese Pavilion       Nayana Shanbhag   \n",
       "9999  Chinese Pavilion      Bhargava Krishna   \n",
       "\n",
       "                                                 Review Rating  \\\n",
       "0     The ambience was good, food was quite good . h...      5   \n",
       "1     Ambience is too good for a pleasant evening. S...      5   \n",
       "2     A must try.. great food great ambience. Thnx f...      5   \n",
       "3     Soumen das and Arun was a great guy. Only beca...      5   \n",
       "4     Food is good.we ordered Kodi drumsticks and ba...      5   \n",
       "...                                                 ...    ...   \n",
       "9995  Madhumathi Mahajan Well to start with nice cou...      3   \n",
       "9996  This place has never disappointed us.. The foo...    4.5   \n",
       "9997  Bad rating is mainly because of \"Chicken Bone ...    1.5   \n",
       "9998  I personally love and prefer Chinese Food. Had...      4   \n",
       "9999  Checked in here to try some delicious chinese ...    3.5   \n",
       "\n",
       "                          Metadata             Time  Pictures    7514  \n",
       "0           1 Review , 2 Followers  5/25/2019 15:54         0  2447.0  \n",
       "1          3 Reviews , 2 Followers  5/25/2019 14:20         0     NaN  \n",
       "2          2 Reviews , 3 Followers  5/24/2019 22:54         0     NaN  \n",
       "3            1 Review , 1 Follower  5/24/2019 22:11         0     NaN  \n",
       "4          3 Reviews , 2 Followers  5/24/2019 21:37         0     NaN  \n",
       "...                            ...              ...       ...     ...  \n",
       "9995     53 Reviews , 54 Followers    6/5/2016 0:08         0     NaN  \n",
       "9996      2 Reviews , 53 Followers   6/4/2016 22:01         0     NaN  \n",
       "9997    65 Reviews , 423 Followers   6/3/2016 10:37         3     NaN  \n",
       "9998    13 Reviews , 144 Followers  5/31/2016 17:22         0     NaN  \n",
       "9999  472 Reviews , 1302 Followers  5/31/2016 16:41         6     NaN  \n",
       "\n",
       "[10000 rows x 8 columns]"
      ]
     },
     "execution_count": 7,
     "metadata": {},
     "output_type": "execute_result"
    }
   ],
   "source": [
    "df"
   ]
  },
  {
   "cell_type": "code",
   "execution_count": 8,
   "id": "b4a0492a-df64-4615-b1dc-bae9718be3e8",
   "metadata": {},
   "outputs": [
    {
     "data": {
      "text/plain": [
       "(10000, 8)"
      ]
     },
     "execution_count": 8,
     "metadata": {},
     "output_type": "execute_result"
    }
   ],
   "source": [
    "df.shape"
   ]
  },
  {
   "cell_type": "markdown",
   "id": "e0411c65-2d14-4d8e-b977-6e14cf8fcc3b",
   "metadata": {},
   "source": [
    "Cleaning & Preparing Data"
   ]
  },
  {
   "cell_type": "code",
   "execution_count": 9,
   "id": "c5098921-881e-4c80-aa69-b576383ad16e",
   "metadata": {},
   "outputs": [],
   "source": [
    "df = df.drop(columns=[\"Restaurant\",\"Reviewer\",\"Metadata\",\"Time\",\"Pictures\"])"
   ]
  },
  {
   "cell_type": "code",
   "execution_count": 10,
   "id": "97d945f9-2672-41e4-bb39-7db35446f35d",
   "metadata": {},
   "outputs": [
    {
     "data": {
      "text/plain": [
       "(10000, 2)"
      ]
     },
     "execution_count": 10,
     "metadata": {},
     "output_type": "execute_result"
    }
   ],
   "source": [
    "y = df[\"Rating\"]\n",
    "X = df.drop(columns=[\"Rating\"])\n",
    "X.shape"
   ]
  },
  {
   "cell_type": "code",
   "execution_count": 11,
   "id": "4a8d595c-66d9-409d-b37b-edc2f0745c64",
   "metadata": {},
   "outputs": [],
   "source": [
    "y = y.replace({'Like':3})"
   ]
  },
  {
   "cell_type": "code",
   "execution_count": 12,
   "id": "485958df-48b6-44f3-a690-64f3374a1d6b",
   "metadata": {},
   "outputs": [
    {
     "data": {
      "text/plain": [
       "np.int64(38)"
      ]
     },
     "execution_count": 12,
     "metadata": {},
     "output_type": "execute_result"
    }
   ],
   "source": [
    "y.isnull().sum()"
   ]
  },
  {
   "cell_type": "code",
   "execution_count": 19,
   "id": "3f05cbd1-87e9-40d9-aadd-0dd907342b86",
   "metadata": {},
   "outputs": [
    {
     "name": "stdout",
     "output_type": "stream",
     "text": [
      "object\n"
     ]
    }
   ],
   "source": [
    "print(y.dtype)"
   ]
  },
  {
   "cell_type": "code",
   "execution_count": 13,
   "id": "a91eb1e5-632e-4433-9c59-3f7d34c4dc0d",
   "metadata": {},
   "outputs": [],
   "source": [
    "y = pd.to_numeric(y)"
   ]
  },
  {
   "cell_type": "code",
   "execution_count": 14,
   "id": "36784dcd-8de9-444d-a598-2356887bbdcb",
   "metadata": {},
   "outputs": [],
   "source": [
    "y = y.fillna(y.median())"
   ]
  },
  {
   "cell_type": "code",
   "execution_count": 15,
   "id": "e2d740e8-30dd-4a2b-b643-d0e4cea06d5f",
   "metadata": {},
   "outputs": [
    {
     "data": {
      "text/plain": [
       "0       5.0\n",
       "1       5.0\n",
       "2       5.0\n",
       "3       5.0\n",
       "4       5.0\n",
       "       ... \n",
       "9995    3.0\n",
       "9996    4.5\n",
       "9997    1.5\n",
       "9998    4.0\n",
       "9999    3.5\n",
       "Name: Rating, Length: 10000, dtype: float64"
      ]
     },
     "execution_count": 15,
     "metadata": {},
     "output_type": "execute_result"
    }
   ],
   "source": [
    "y"
   ]
  },
  {
   "cell_type": "code",
   "execution_count": 16,
   "id": "7cca1a13-9328-4bbd-85d5-69382c088157",
   "metadata": {},
   "outputs": [],
   "source": [
    "for i in range(0,len(y)):\n",
    "    y.iloc[i] = round(y.iloc[i],0)"
   ]
  },
  {
   "cell_type": "code",
   "execution_count": 17,
   "id": "af8b4d02-37e4-4c57-9a15-7b122116f1a3",
   "metadata": {},
   "outputs": [
    {
     "name": "stderr",
     "output_type": "stream",
     "text": [
      "C:\\Users\\hasitha\\AppData\\Local\\Temp\\ipykernel_13136\\1156208666.py:3: FutureWarning: Setting an item of incompatible dtype is deprecated and will raise an error in a future version of pandas. Value 'Positive' has dtype incompatible with float64, please explicitly cast to a compatible dtype first.\n",
      "  y[i] = \"Positive\"\n"
     ]
    }
   ],
   "source": [
    "for i in range(0,len(y)):\n",
    "    if (y[i]>=3):\n",
    "        y[i] = \"Positive\"\n",
    "    else:\n",
    "        y[i] = \"Negative\""
   ]
  },
  {
   "cell_type": "code",
   "execution_count": 21,
   "id": "f12cda80-0e04-4e86-8dcd-6942eaf170e8",
   "metadata": {},
   "outputs": [],
   "source": [
    "for i in range(0,len(y)):\n",
    "    if (y[i]>=3):\n",
    "        y[i] = 1\n",
    "    else:\n",
    "        y[i] = 0"
   ]
  },
  {
   "cell_type": "code",
   "execution_count": 22,
   "id": "dcf3e699-d93c-4f43-88c5-50d843a0f46b",
   "metadata": {},
   "outputs": [
    {
     "data": {
      "text/plain": [
       "array([0], dtype=object)"
      ]
     },
     "execution_count": 22,
     "metadata": {},
     "output_type": "execute_result"
    }
   ],
   "source": [
    "y.unique()"
   ]
  },
  {
   "cell_type": "code",
   "execution_count": 23,
   "id": "157f8b7f-69ed-4cf9-a6f0-dc63978b2355",
   "metadata": {},
   "outputs": [
    {
     "data": {
      "text/plain": [
       "(10000,)"
      ]
     },
     "execution_count": 23,
     "metadata": {},
     "output_type": "execute_result"
    }
   ],
   "source": [
    "y.shape"
   ]
  },
  {
   "cell_type": "markdown",
   "id": "cc447021-e227-4037-8a9e-ea7cbedf63db",
   "metadata": {},
   "source": [
    "Applying NLP Processes"
   ]
  },
  {
   "cell_type": "code",
   "execution_count": 25,
   "id": "1f20a796-e484-4f8b-8efc-b6da8571c271",
   "metadata": {},
   "outputs": [
    {
     "name": "stdout",
     "output_type": "stream",
     "text": [
      "Collecting nltk\n",
      "  Using cached nltk-3.9.1-py3-none-any.whl.metadata (2.9 kB)\n",
      "Collecting click (from nltk)\n",
      "  Using cached click-8.1.8-py3-none-any.whl.metadata (2.3 kB)\n",
      "Requirement already satisfied: joblib in c:\\users\\hasitha\\desktop\\review_sentiment\\venv\\lib\\site-packages (from nltk) (1.4.2)\n",
      "Collecting regex>=2021.8.3 (from nltk)\n",
      "  Using cached regex-2024.11.6-cp313-cp313-win_amd64.whl.metadata (41 kB)\n",
      "Collecting tqdm (from nltk)\n",
      "  Using cached tqdm-4.67.1-py3-none-any.whl.metadata (57 kB)\n",
      "Requirement already satisfied: colorama in c:\\users\\hasitha\\desktop\\review_sentiment\\venv\\lib\\site-packages (from click->nltk) (0.4.6)\n",
      "Using cached nltk-3.9.1-py3-none-any.whl (1.5 MB)\n",
      "Using cached regex-2024.11.6-cp313-cp313-win_amd64.whl (273 kB)\n",
      "Using cached click-8.1.8-py3-none-any.whl (98 kB)\n",
      "Using cached tqdm-4.67.1-py3-none-any.whl (78 kB)\n",
      "Installing collected packages: tqdm, regex, click, nltk\n",
      "Successfully installed click-8.1.8 nltk-3.9.1 regex-2024.11.6 tqdm-4.67.1\n"
     ]
    }
   ],
   "source": [
    "!pip install nltk"
   ]
  },
  {
   "cell_type": "code",
   "execution_count": 26,
   "id": "1663f329-03c8-46c9-9559-b24e17a61d76",
   "metadata": {},
   "outputs": [],
   "source": [
    "import re\n",
    "import nltk\n",
    "from nltk.corpus import stopwords\n",
    "from nltk.stem.porter import PorterStemmer\n",
    "ps = PorterStemmer()\n",
    "corpus = []\n",
    "for i in range(0, len(X)):\n",
    "    review = re.sub('[^a-zA-Z]',' ', str(X['Review'][i]))\n",
    "    review = review.lower() #Lowering the words is very imporatant in avoiding classifying same words as different words\n",
    "    review = review.split()\n",
    "    \n",
    "    review = [ps.stem(word) for word in review if not word in stopwords.words('english')] #Eleminating words that do not put much value in sentences.\n",
    "    review = ' '.join(review) #Reconstructing sentences\n",
    "    corpus.append(review)"
   ]
  },
  {
   "cell_type": "markdown",
   "id": "72a61279-2631-478c-84cf-0b4bfa9af4e5",
   "metadata": {},
   "source": [
    "For implementing LSTM goto direct LSTM Section Else Continue"
   ]
  },
  {
   "cell_type": "code",
   "execution_count": 28,
   "id": "3a8de78a-92f3-4823-813e-369ed9c35ff9",
   "metadata": {},
   "outputs": [],
   "source": [
    "from sklearn.feature_extraction.text import CountVectorizer\n",
    "cv = CountVectorizer(max_features=9000) \n",
    "X = cv.fit_transform(corpus).toarray()"
   ]
  },
  {
   "cell_type": "markdown",
   "id": "b52c64e1-a7e1-432a-8708-2f518e67ffd2",
   "metadata": {},
   "source": [
    "Train-Test Split"
   ]
  },
  {
   "cell_type": "code",
   "execution_count": 29,
   "id": "40eabfdd-7f5b-483e-8fdd-0506723a2594",
   "metadata": {},
   "outputs": [],
   "source": [
    "from sklearn.model_selection import train_test_split\n",
    "X_train, X_test, y_train, y_test = train_test_split(X, y, test_size=0.25, random_state=0)"
   ]
  },
  {
   "cell_type": "code",
   "execution_count": 30,
   "id": "79e74a14-7c40-4d6f-9e17-fa635d18f7b9",
   "metadata": {},
   "outputs": [
    {
     "data": {
      "text/plain": [
       "array([[0, 0, 0, ..., 0, 0, 0],\n",
       "       [0, 0, 0, ..., 0, 0, 0],\n",
       "       [0, 0, 0, ..., 0, 0, 0],\n",
       "       ...,\n",
       "       [0, 0, 0, ..., 0, 0, 0],\n",
       "       [0, 0, 0, ..., 0, 0, 0],\n",
       "       [0, 0, 0, ..., 0, 0, 0]], shape=(7500, 9000))"
      ]
     },
     "execution_count": 30,
     "metadata": {},
     "output_type": "execute_result"
    }
   ],
   "source": [
    "X_train"
   ]
  },
  {
   "cell_type": "code",
   "execution_count": 31,
   "id": "425fa0d4-eaaf-4133-86ae-b7d872b2bbf3",
   "metadata": {},
   "outputs": [
    {
     "data": {
      "text/plain": [
       "array([[0, 0, 0, ..., 0, 0, 0],\n",
       "       [0, 0, 0, ..., 0, 0, 0],\n",
       "       [0, 0, 0, ..., 0, 0, 0],\n",
       "       ...,\n",
       "       [0, 0, 0, ..., 0, 0, 0],\n",
       "       [0, 0, 0, ..., 0, 0, 0],\n",
       "       [0, 0, 0, ..., 0, 0, 0]], shape=(2500, 9000))"
      ]
     },
     "execution_count": 31,
     "metadata": {},
     "output_type": "execute_result"
    }
   ],
   "source": [
    "X_test"
   ]
  },
  {
   "cell_type": "code",
   "execution_count": 32,
   "id": "f5e0e366-1756-4a1e-b7a3-0a94391d9b22",
   "metadata": {},
   "outputs": [
    {
     "data": {
      "text/plain": [
       "2967    0\n",
       "700     0\n",
       "3481    0\n",
       "1621    0\n",
       "800     0\n",
       "       ..\n",
       "9225    0\n",
       "4859    0\n",
       "3264    0\n",
       "9845    0\n",
       "2732    0\n",
       "Name: Rating, Length: 7500, dtype: object"
      ]
     },
     "execution_count": 32,
     "metadata": {},
     "output_type": "execute_result"
    }
   ],
   "source": [
    "y_train"
   ]
  },
  {
   "cell_type": "code",
   "execution_count": 33,
   "id": "aeaeafd4-66ee-480b-97d2-a5d0f12e8e7a",
   "metadata": {},
   "outputs": [
    {
     "data": {
      "text/plain": [
       "9394    0\n",
       "898     0\n",
       "2398    0\n",
       "5906    0\n",
       "2343    0\n",
       "       ..\n",
       "8764    0\n",
       "4359    0\n",
       "2041    0\n",
       "1108    0\n",
       "3332    0\n",
       "Name: Rating, Length: 2500, dtype: object"
      ]
     },
     "execution_count": 33,
     "metadata": {},
     "output_type": "execute_result"
    }
   ],
   "source": [
    "y_test"
   ]
  },
  {
   "cell_type": "code",
   "execution_count": 34,
   "id": "2710371b-6106-4a2e-a324-2549e2c4af92",
   "metadata": {},
   "outputs": [
    {
     "data": {
      "text/plain": [
       "Rating\n",
       "0    7500\n",
       "Name: count, dtype: int64"
      ]
     },
     "execution_count": 34,
     "metadata": {},
     "output_type": "execute_result"
    }
   ],
   "source": [
    "y_train.value_counts()"
   ]
  },
  {
   "cell_type": "code",
   "execution_count": 35,
   "id": "da4d4757-598b-4916-ba36-5193c1bd5523",
   "metadata": {},
   "outputs": [
    {
     "ename": "NameError",
     "evalue": "name 'plt' is not defined",
     "output_type": "error",
     "traceback": [
      "\u001b[31m---------------------------------------------------------------------------\u001b[39m",
      "\u001b[31mNameError\u001b[39m                                 Traceback (most recent call last)",
      "\u001b[36mCell\u001b[39m\u001b[36m \u001b[39m\u001b[32mIn[35]\u001b[39m\u001b[32m, line 1\u001b[39m\n\u001b[32m----> \u001b[39m\u001b[32m1\u001b[39m \u001b[43mplt\u001b[49m.pie(np.array([Y_train.value_counts()[\u001b[32m0\u001b[39m], Y_train.value_counts()[\u001b[32m1\u001b[39m]]), \n\u001b[32m      2\u001b[39m         labels=[\u001b[33m'\u001b[39m\u001b[33mpositive\u001b[39m\u001b[33m'\u001b[39m, \u001b[33m'\u001b[39m\u001b[33mnegative\u001b[39m\u001b[33m'\u001b[39m])\n\u001b[32m      3\u001b[39m plt.title(\u001b[33m'\u001b[39m\u001b[33mClass Distribution\u001b[39m\u001b[33m'\u001b[39m)\n\u001b[32m      4\u001b[39m plt.show()\n",
      "\u001b[31mNameError\u001b[39m: name 'plt' is not defined"
     ]
    }
   ],
   "source": [
    "plt.pie(np.array([Y_train.value_counts()[0], Y_train.value_counts()[1]]), \n",
    "        labels=['positive', 'negative'])\n",
    "plt.title('Class Distribution')\n",
    "plt.show()"
   ]
  },
  {
   "cell_type": "code",
   "execution_count": 36,
   "id": "755a0122-2de3-4286-a5a7-25516d244adb",
   "metadata": {},
   "outputs": [
    {
     "name": "stdout",
     "output_type": "stream",
     "text": [
      "Collecting matplotlib\n",
      "  Using cached matplotlib-3.10.1-cp313-cp313-win_amd64.whl.metadata (11 kB)\n",
      "Collecting contourpy>=1.0.1 (from matplotlib)\n",
      "  Using cached contourpy-1.3.1-cp313-cp313-win_amd64.whl.metadata (5.4 kB)\n",
      "Collecting cycler>=0.10 (from matplotlib)\n",
      "  Using cached cycler-0.12.1-py3-none-any.whl.metadata (3.8 kB)\n",
      "Collecting fonttools>=4.22.0 (from matplotlib)\n",
      "  Using cached fonttools-4.56.0-cp313-cp313-win_amd64.whl.metadata (103 kB)\n",
      "Collecting kiwisolver>=1.3.1 (from matplotlib)\n",
      "  Using cached kiwisolver-1.4.8-cp313-cp313-win_amd64.whl.metadata (6.3 kB)\n",
      "Requirement already satisfied: numpy>=1.23 in c:\\users\\hasitha\\desktop\\review_sentiment\\venv\\lib\\site-packages (from matplotlib) (2.2.3)\n",
      "Requirement already satisfied: packaging>=20.0 in c:\\users\\hasitha\\desktop\\review_sentiment\\venv\\lib\\site-packages (from matplotlib) (24.2)\n",
      "Collecting pillow>=8 (from matplotlib)\n",
      "  Using cached pillow-11.1.0-cp313-cp313-win_amd64.whl.metadata (9.3 kB)\n",
      "Collecting pyparsing>=2.3.1 (from matplotlib)\n",
      "  Using cached pyparsing-3.2.1-py3-none-any.whl.metadata (5.0 kB)\n",
      "Requirement already satisfied: python-dateutil>=2.7 in c:\\users\\hasitha\\desktop\\review_sentiment\\venv\\lib\\site-packages (from matplotlib) (2.9.0.post0)\n",
      "Requirement already satisfied: six>=1.5 in c:\\users\\hasitha\\desktop\\review_sentiment\\venv\\lib\\site-packages (from python-dateutil>=2.7->matplotlib) (1.17.0)\n",
      "Using cached matplotlib-3.10.1-cp313-cp313-win_amd64.whl (8.1 MB)\n",
      "Using cached contourpy-1.3.1-cp313-cp313-win_amd64.whl (220 kB)\n",
      "Using cached cycler-0.12.1-py3-none-any.whl (8.3 kB)\n",
      "Using cached fonttools-4.56.0-cp313-cp313-win_amd64.whl (2.2 MB)\n",
      "Using cached kiwisolver-1.4.8-cp313-cp313-win_amd64.whl (71 kB)\n",
      "Using cached pillow-11.1.0-cp313-cp313-win_amd64.whl (2.6 MB)\n",
      "Using cached pyparsing-3.2.1-py3-none-any.whl (107 kB)\n",
      "Installing collected packages: pyparsing, pillow, kiwisolver, fonttools, cycler, contourpy, matplotlib\n",
      "Successfully installed contourpy-1.3.1 cycler-0.12.1 fonttools-4.56.0 kiwisolver-1.4.8 matplotlib-3.10.1 pillow-11.1.0 pyparsing-3.2.1\n",
      "Note: you may need to restart the kernel to use updated packages.\n"
     ]
    }
   ],
   "source": [
    "pip install matplotlib"
   ]
  },
  {
   "cell_type": "code",
   "execution_count": null,
   "id": "bb83ebce-5095-45e0-9b4d-0f93c4af4b0b",
   "metadata": {},
   "outputs": [],
   "source": []
  }
 ],
 "metadata": {
  "kernelspec": {
   "display_name": "Python 3 (ipykernel)",
   "language": "python",
   "name": "python3"
  },
  "language_info": {
   "codemirror_mode": {
    "name": "ipython",
    "version": 3
   },
   "file_extension": ".py",
   "mimetype": "text/x-python",
   "name": "python",
   "nbconvert_exporter": "python",
   "pygments_lexer": "ipython3",
   "version": "3.13.1"
  }
 },
 "nbformat": 4,
 "nbformat_minor": 5
}
